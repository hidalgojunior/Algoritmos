{
  "nbformat": 4,
  "nbformat_minor": 0,
  "metadata": {
    "colab": {
      "provenance": [],
      "authorship_tag": "ABX9TyPaC8y9uysK5Ip+vazy4GQc",
      "include_colab_link": true
    },
    "kernelspec": {
      "name": "python3",
      "display_name": "Python 3"
    },
    "language_info": {
      "name": "python"
    }
  },
  "cells": [
    {
      "cell_type": "markdown",
      "metadata": {
        "id": "view-in-github",
        "colab_type": "text"
      },
      "source": [
        "<a href=\"https://colab.research.google.com/github/hidalgojunior/Algoritmos/blob/main/for.ipynb\" target=\"_parent\"><img src=\"https://colab.research.google.com/assets/colab-badge.svg\" alt=\"Open In Colab\"/></a>"
      ]
    },
    {
      "cell_type": "code",
      "execution_count": null,
      "metadata": {
        "id": "5bIrKK93Ienx"
      },
      "outputs": [],
      "source": []
    },
    {
      "cell_type": "markdown",
      "source": [
        "# Comando Para"
      ],
      "metadata": {
        "id": "R_jErc2AULs4"
      }
    },
    {
      "cell_type": "markdown",
      "source": [
        "## Exercícios\n",
        "\n",
        "1. **(CONTADOR)** Apresentar o quadrado dos números de 15 a 200.\n",
        "\n",
        "2. **(ACUMULADOR)** Apresentar o total da soma dos primeiros cem números inteiros (1+2+...+98+99+100)\n",
        "\n",
        "3. **(CONTADOR)** Escrever um algoritmo que lê 5 valores para a variavel A, um de cada vez, e conta quantos são negativos. Após a leitura, o programa deve mostrar a quantidade de valores negativos."
      ],
      "metadata": {
        "id": "AbdHFAtPUOfh"
      }
    },
    {
      "cell_type": "markdown",
      "source": [
        "### Apresentar o quadrado dos números de 15 a 200"
      ],
      "metadata": {
        "id": "HRsONCVlVnJM"
      }
    },
    {
      "cell_type": "code",
      "source": [
        "for contador in range(15,201):\n",
        "  quadrado = contador * contador\n",
        "  print(quadrado)"
      ],
      "metadata": {
        "colab": {
          "base_uri": "https://localhost:8080/"
        },
        "id": "kHZrpbX2VsMn",
        "outputId": "23b16cb3-9ab0-4c47-f2a7-1b819e8e9913"
      },
      "execution_count": 2,
      "outputs": [
        {
          "output_type": "stream",
          "name": "stdout",
          "text": [
            "225\n",
            "256\n",
            "289\n",
            "324\n",
            "361\n",
            "400\n",
            "441\n",
            "484\n",
            "529\n",
            "576\n",
            "625\n",
            "676\n",
            "729\n",
            "784\n",
            "841\n",
            "900\n",
            "961\n",
            "1024\n",
            "1089\n",
            "1156\n",
            "1225\n",
            "1296\n",
            "1369\n",
            "1444\n",
            "1521\n",
            "1600\n",
            "1681\n",
            "1764\n",
            "1849\n",
            "1936\n",
            "2025\n",
            "2116\n",
            "2209\n",
            "2304\n",
            "2401\n",
            "2500\n",
            "2601\n",
            "2704\n",
            "2809\n",
            "2916\n",
            "3025\n",
            "3136\n",
            "3249\n",
            "3364\n",
            "3481\n",
            "3600\n",
            "3721\n",
            "3844\n",
            "3969\n",
            "4096\n",
            "4225\n",
            "4356\n",
            "4489\n",
            "4624\n",
            "4761\n",
            "4900\n",
            "5041\n",
            "5184\n",
            "5329\n",
            "5476\n",
            "5625\n",
            "5776\n",
            "5929\n",
            "6084\n",
            "6241\n",
            "6400\n",
            "6561\n",
            "6724\n",
            "6889\n",
            "7056\n",
            "7225\n",
            "7396\n",
            "7569\n",
            "7744\n",
            "7921\n",
            "8100\n",
            "8281\n",
            "8464\n",
            "8649\n",
            "8836\n",
            "9025\n",
            "9216\n",
            "9409\n",
            "9604\n",
            "9801\n",
            "10000\n",
            "10201\n",
            "10404\n",
            "10609\n",
            "10816\n",
            "11025\n",
            "11236\n",
            "11449\n",
            "11664\n",
            "11881\n",
            "12100\n",
            "12321\n",
            "12544\n",
            "12769\n",
            "12996\n",
            "13225\n",
            "13456\n",
            "13689\n",
            "13924\n",
            "14161\n",
            "14400\n",
            "14641\n",
            "14884\n",
            "15129\n",
            "15376\n",
            "15625\n",
            "15876\n",
            "16129\n",
            "16384\n",
            "16641\n",
            "16900\n",
            "17161\n",
            "17424\n",
            "17689\n",
            "17956\n",
            "18225\n",
            "18496\n",
            "18769\n",
            "19044\n",
            "19321\n",
            "19600\n",
            "19881\n",
            "20164\n",
            "20449\n",
            "20736\n",
            "21025\n",
            "21316\n",
            "21609\n",
            "21904\n",
            "22201\n",
            "22500\n",
            "22801\n",
            "23104\n",
            "23409\n",
            "23716\n",
            "24025\n",
            "24336\n",
            "24649\n",
            "24964\n",
            "25281\n",
            "25600\n",
            "25921\n",
            "26244\n",
            "26569\n",
            "26896\n",
            "27225\n",
            "27556\n",
            "27889\n",
            "28224\n",
            "28561\n",
            "28900\n",
            "29241\n",
            "29584\n",
            "29929\n",
            "30276\n",
            "30625\n",
            "30976\n",
            "31329\n",
            "31684\n",
            "32041\n",
            "32400\n",
            "32761\n",
            "33124\n",
            "33489\n",
            "33856\n",
            "34225\n",
            "34596\n",
            "34969\n",
            "35344\n",
            "35721\n",
            "36100\n",
            "36481\n",
            "36864\n",
            "37249\n",
            "37636\n",
            "38025\n",
            "38416\n",
            "38809\n",
            "39204\n",
            "39601\n",
            "40000\n"
          ]
        }
      ]
    },
    {
      "cell_type": "markdown",
      "source": [
        "### Apresentar o total da soma dos primeiros cem números inteiros (1+2+...+98+99+100)"
      ],
      "metadata": {
        "id": "o1S1SCyaWSDX"
      }
    },
    {
      "cell_type": "code",
      "source": [
        "soma = 0\n",
        "for contador in range (1,101):\n",
        "  soma += contador\n",
        "\n",
        "print('Soma: ',soma)"
      ],
      "metadata": {
        "colab": {
          "base_uri": "https://localhost:8080/"
        },
        "id": "4QAQ_0LmWWP-",
        "outputId": "37eb6468-5672-420f-bd43-fd96d7f42bd1"
      },
      "execution_count": 3,
      "outputs": [
        {
          "output_type": "stream",
          "name": "stdout",
          "text": [
            "Soma:  5050\n"
          ]
        }
      ]
    },
    {
      "cell_type": "markdown",
      "source": [
        "### Escrever um algoritmo que lê 5 valores para a variavel A, um de cada vez, e conta quantos são negativos. Após a leitura, o programa deve mostrar a quantidade de valores negativos\n"
      ],
      "metadata": {
        "id": "KhQ4GJ0SWmSW"
      }
    },
    {
      "cell_type": "code",
      "source": [
        "negativo = 0\n",
        "valor = 0\n",
        "for contador in range (1,6):\n",
        "  valor = float(input('Digite o valor '))\n",
        "  if valor < 0:\n",
        "    negativo += 1\n",
        "\n",
        "print('Negativos: ',negativo)"
      ],
      "metadata": {
        "colab": {
          "base_uri": "https://localhost:8080/"
        },
        "id": "9EvR8tpKWnyX",
        "outputId": "4161037f-0f72-4e9a-f574-dd5c61e7bad0"
      },
      "execution_count": 6,
      "outputs": [
        {
          "output_type": "stream",
          "name": "stdout",
          "text": [
            "Digite o valor 4\n",
            "Digite o valor 5\n",
            "Digite o valor -3\n",
            "Digite o valor -5\n",
            "Digite o valor -1\n",
            "Negativos:  3\n"
          ]
        }
      ]
    }
  ]
}