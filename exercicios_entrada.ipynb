{
  "nbformat": 4,
  "nbformat_minor": 0,
  "metadata": {
    "colab": {
      "provenance": [],
      "collapsed_sections": [],
      "authorship_tag": "ABX9TyOXElIlNXpvFSElbz1smxcW",
      "include_colab_link": true
    },
    "kernelspec": {
      "name": "python3",
      "display_name": "Python 3"
    },
    "language_info": {
      "name": "python"
    }
  },
  "cells": [
    {
      "cell_type": "markdown",
      "metadata": {
        "id": "view-in-github",
        "colab_type": "text"
      },
      "source": [
        "<a href=\"https://colab.research.google.com/github/hidalgojunior/Algoritmos/blob/main/exercicios_entrada.ipynb\" target=\"_parent\"><img src=\"https://colab.research.google.com/assets/colab-badge.svg\" alt=\"Open In Colab\"/></a>"
      ]
    },
    {
      "cell_type": "markdown",
      "source": [
        "Exercício 01 - Realizar as quatro operações matematicas a partir da leitura de dois valores reais."
      ],
      "metadata": {
        "id": "LvTfbEn9F660"
      }
    },
    {
      "cell_type": "code",
      "execution_count": 5,
      "metadata": {
        "colab": {
          "base_uri": "https://localhost:8080/"
        },
        "id": "qAK67sUqD1vN",
        "outputId": "d8bd2b7f-f91a-4a14-a360-41773d43de14"
      },
      "outputs": [
        {
          "output_type": "stream",
          "name": "stdout",
          "text": [
            "Digite o valor 1: \n",
            "40\n",
            "Digite o valor 2: \n",
            "23\n",
            "Soma:  63.0\n",
            "Subtracao:  17.0\n",
            "Multiplicação:  920.0\n",
            "Divisao:  1.7391304347826086\n"
          ]
        }
      ],
      "source": [
        "\n",
        "print('Digite o valor 1: ')\n",
        "valor1 = float(input())\n",
        "print('Digite o valor 2: ')\n",
        "valor2 = float(input())\n",
        "\n",
        "soma = valor1 + valor2\n",
        "subtracao = valor1 - valor2\n",
        "multiplicacao = valor1 * valor2\n",
        "divisao = valor1 / valor2\n",
        "\n",
        "print('Soma: ',soma)\n",
        "print('Subtracao: ',subtracao)\n",
        "print('Multiplicação: ',multiplicacao)\n",
        "print('Divisao: ',divisao)\n",
        "\n",
        "\n"
      ]
    },
    {
      "cell_type": "markdown",
      "source": [
        "Exercicio02: Ler os valores de comprimento, largura e altura e apresentar o volume de uma caixa retangular."
      ],
      "metadata": {
        "id": "g-B-0Ot7GJq-"
      }
    },
    {
      "cell_type": "code",
      "source": [
        "comprimento = float(input('Informe o comprimento: '))\n",
        "largura = float(input('Informe a largura: '))\n",
        "altura = float(input('Informe altura: '))\n",
        "\n",
        "volume = comprimento * altura * largura\n",
        "\n",
        "print('O volume da caixa é: ',volume)\n"
      ],
      "metadata": {
        "colab": {
          "base_uri": "https://localhost:8080/"
        },
        "id": "mxjb9NohGV5x",
        "outputId": "d3220f2e-7733-45fe-ea1c-75e2742a41f1"
      },
      "execution_count": 6,
      "outputs": [
        {
          "output_type": "stream",
          "name": "stdout",
          "text": [
            "Informe o comprimento: 10\n",
            "Informe a largura: 02\n",
            "Informe altura: 3\n",
            "O volume da caixa é:  60.0\n"
          ]
        }
      ]
    }
  ]
}