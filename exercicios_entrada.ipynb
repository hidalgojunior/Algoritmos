{
  "nbformat": 4,
  "nbformat_minor": 0,
  "metadata": {
    "colab": {
      "provenance": [],
      "collapsed_sections": [],
      "authorship_tag": "ABX9TyP6x7Uyge3fB3dYnNk76waA",
      "include_colab_link": true
    },
    "kernelspec": {
      "name": "python3",
      "display_name": "Python 3"
    },
    "language_info": {
      "name": "python"
    }
  },
  "cells": [
    {
      "cell_type": "markdown",
      "metadata": {
        "id": "view-in-github",
        "colab_type": "text"
      },
      "source": [
        "<a href=\"https://colab.research.google.com/github/hidalgojunior/Algoritmos/blob/main/exercicios_entrada.ipynb\" target=\"_parent\"><img src=\"https://colab.research.google.com/assets/colab-badge.svg\" alt=\"Open In Colab\"/></a>"
      ]
    },
    {
      "cell_type": "markdown",
      "source": [
        "Exemplo - Realizar as quatro operações matematicas a partir da leitura de dois valores reais."
      ],
      "metadata": {
        "id": "LvTfbEn9F660"
      }
    },
    {
      "cell_type": "code",
      "execution_count": 5,
      "metadata": {
        "colab": {
          "base_uri": "https://localhost:8080/"
        },
        "id": "qAK67sUqD1vN",
        "outputId": "d8bd2b7f-f91a-4a14-a360-41773d43de14"
      },
      "outputs": [
        {
          "output_type": "stream",
          "name": "stdout",
          "text": [
            "Digite o valor 1: \n",
            "40\n",
            "Digite o valor 2: \n",
            "23\n",
            "Soma:  63.0\n",
            "Subtracao:  17.0\n",
            "Multiplicação:  920.0\n",
            "Divisao:  1.7391304347826086\n"
          ]
        }
      ],
      "source": [
        "\n",
        "print('Digite o valor 1: ')\n",
        "valor1 = float(input())\n",
        "print('Digite o valor 2: ')\n",
        "valor2 = float(input())\n",
        "\n",
        "soma = valor1 + valor2\n",
        "subtracao = valor1 - valor2\n",
        "multiplicacao = valor1 * valor2\n",
        "divisao = valor1 / valor2\n",
        "\n",
        "print('Soma: ',soma)\n",
        "print('Subtracao: ',subtracao)\n",
        "print('Multiplicação: ',multiplicacao)\n",
        "print('Divisao: ',divisao)\n",
        "\n",
        "\n"
      ]
    },
    {
      "cell_type": "markdown",
      "source": [
        "Exercicio 01 - Calcular a temperatura Fahrenheit a partir de uma temperatura em Celsius."
      ],
      "metadata": {
        "id": "JWMbjQQ8HOEm"
      }
    },
    {
      "cell_type": "code",
      "source": [
        "C = float(input('Informe a temperatura em Celsius: '))\n",
        "\n",
        "F = (9 * C + 160) / 5\n",
        "\n",
        "print ('A temperatura em Fahrenheit é: ',F)"
      ],
      "metadata": {
        "colab": {
          "base_uri": "https://localhost:8080/"
        },
        "id": "55aVcnxOHgNi",
        "outputId": "08f00dcf-acdf-416c-8b8e-14d05e648c02"
      },
      "execution_count": 7,
      "outputs": [
        {
          "output_type": "stream",
          "name": "stdout",
          "text": [
            "Informe a temperatura em Celsius: 0\n",
            "A temperatura em Fahrenheit é:  32.0\n"
          ]
        }
      ]
    },
    {
      "cell_type": "markdown",
      "source": [
        "Exercicio02: Ler os valores de comprimento, largura e altura e apresentar o volume de uma caixa retangular."
      ],
      "metadata": {
        "id": "g-B-0Ot7GJq-"
      }
    },
    {
      "cell_type": "code",
      "source": [
        "comprimento = float(input('Informe o comprimento: '))\n",
        "largura = float(input('Informe a largura: '))\n",
        "altura = float(input('Informe altura: '))\n",
        "\n",
        "volume = comprimento * altura * largura\n",
        "\n",
        "print('O volume da caixa é: ',volume)\n"
      ],
      "metadata": {
        "colab": {
          "base_uri": "https://localhost:8080/"
        },
        "id": "mxjb9NohGV5x",
        "outputId": "d3220f2e-7733-45fe-ea1c-75e2742a41f1"
      },
      "execution_count": 6,
      "outputs": [
        {
          "output_type": "stream",
          "name": "stdout",
          "text": [
            "Informe o comprimento: 10\n",
            "Informe a largura: 02\n",
            "Informe altura: 3\n",
            "O volume da caixa é:  60.0\n"
          ]
        }
      ]
    },
    {
      "cell_type": "markdown",
      "source": [
        "Exercício 03 - Area de um triangulo"
      ],
      "metadata": {
        "id": "Ms9fmo1zIAy_"
      }
    },
    {
      "cell_type": "code",
      "source": [
        "base = float(input('Informe a base: '))\n",
        "altura = float(input('Informe a altura: '))\n",
        "\n",
        "area = (base * altura)/2\n",
        "\n",
        "print('A área é: ',area)"
      ],
      "metadata": {
        "colab": {
          "base_uri": "https://localhost:8080/"
        },
        "id": "5wg0NkPbIGTo",
        "outputId": "017a592c-d1f3-4d63-9ec7-b938f24d9ccb"
      },
      "execution_count": 8,
      "outputs": [
        {
          "output_type": "stream",
          "name": "stdout",
          "text": [
            "Informe a base: 10\n",
            "Informe a altura: 2\n",
            "A área é:  10.0\n"
          ]
        }
      ]
    },
    {
      "cell_type": "markdown",
      "source": [
        "Exercício 04 - Total Pago e saldo devedor"
      ],
      "metadata": {
        "id": "i1EJ1WbEI7aH"
      }
    },
    {
      "cell_type": "code",
      "source": [
        "numero_total_prestacoes = int(input('Informe o número total de prestações: '))\n",
        "numero_prestacoes_pagas = int(input('Informe o número de prestações pagas: '))\n",
        "valor_prestacao = float(input(\"Informe o valor da prestação: \"))\n",
        "\n",
        "total_pago = valor_prestacao * numero_prestacoes_pagas\n",
        "saldo_devedor = valor_prestacao * (numero_total_prestacoes - numero_prestacoes_pagas)\n",
        "\n",
        "print('O Total Pago foi de: ',total_pago)\n",
        "print('Ainda falta pagar ',saldo_devedor)"
      ],
      "metadata": {
        "colab": {
          "base_uri": "https://localhost:8080/"
        },
        "id": "aQ9o9V_rJIhM",
        "outputId": "998c1e76-57d5-4def-96f0-36a271485f6d"
      },
      "execution_count": 9,
      "outputs": [
        {
          "output_type": "stream",
          "name": "stdout",
          "text": [
            "Informe o número total de prestações: 96\n",
            "Informe o número de prestações pagas: 70\n",
            "Informe o valor da prestação: 2321\n",
            "O Total Pago foi de:  162470.0\n",
            "Ainda falta pagar  60346.0\n"
          ]
        }
      ]
    },
    {
      "cell_type": "markdown",
      "source": [
        "Exercicio 05 - Total de Litros da Viagem"
      ],
      "metadata": {
        "id": "sZ5sKYkEJ42-"
      }
    },
    {
      "cell_type": "code",
      "source": [
        "tempo = float(input('Digite o tempo da viagem (em horas): '))\n",
        "velocidade = float(input('Digite a velocidade média: '))\n",
        "\n",
        "distancia = tempo * velocidade\n",
        "litros = distancia / 12\n",
        "\n",
        "print ('Velocidade média: ',velocidade)\n",
        "print ('Tempo de viagem percorrido: ',tempo)\n",
        "print ('Distancia média percorrida: ',distancia)\n",
        "print ('Litros gastos: ',litros)"
      ],
      "metadata": {
        "colab": {
          "base_uri": "https://localhost:8080/"
        },
        "id": "QOfyAllhJ7-i",
        "outputId": "a55b947f-aaae-4dd4-f3b8-0bdbc6caa6fd"
      },
      "execution_count": 12,
      "outputs": [
        {
          "output_type": "stream",
          "name": "stdout",
          "text": [
            "Digite o tempo da viagem (em horas): 2\n",
            "Digite a velocidade média: 120\n",
            "Velocidade média:  120.0\n",
            "Tempo de viagem percorrido:  2.0\n",
            "Distancia média percorrida:  240.0\n",
            "Litros gastos:  20.0\n"
          ]
        }
      ]
    }
  ]
}