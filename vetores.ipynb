{
  "nbformat": 4,
  "nbformat_minor": 0,
  "metadata": {
    "colab": {
      "provenance": [],
      "authorship_tag": "ABX9TyPCNylpRhRGHXfMyIcFtgd4",
      "include_colab_link": true
    },
    "kernelspec": {
      "name": "python3",
      "display_name": "Python 3"
    },
    "language_info": {
      "name": "python"
    }
  },
  "cells": [
    {
      "cell_type": "markdown",
      "metadata": {
        "id": "view-in-github",
        "colab_type": "text"
      },
      "source": [
        "<a href=\"https://colab.research.google.com/github/hidalgojunior/Algoritmos/blob/main/vetores.ipynb\" target=\"_parent\"><img src=\"https://colab.research.google.com/assets/colab-badge.svg\" alt=\"Open In Colab\"/></a>"
      ]
    },
    {
      "cell_type": "markdown",
      "source": [
        "# Vetores\n",
        "\n",
        "- Tipo de dados para representar uma coleção de variável do mesmo tipo.\n",
        "- Estrutura homogênea.\n",
        "- É uma série de variáveis do mesmo tipo referenciada pelo mesmo nome.\n",
        "- Cada variável é diferenciada por um índice\n",
        "\n",
        "|  1  |  2  |  3  |  4  |  5  |\n",
        "|-----|-----|-----|-----|-----|\n",
        "| 10  | 20  | 30  | 40  | 50  |\n"
      ],
      "metadata": {
        "id": "TU7TIap-YGjQ"
      }
    },
    {
      "cell_type": "markdown",
      "source": [
        "## Exercícios \n",
        "\n",
        "1. Leia um vetor A de 10 elementos inteiros e um valor individual X. A seguir, imprimir o valor do vetor a em que aparece um valor igual a X.\n",
        "\n",
        "2. Leia um vetor A de 10 elementos inteiros e um valor individual X. a seguir, imprimir \"Achei\" se o valor existir em A e \"não achei\", caso contrário.\n",
        "\n",
        "3. Leia um vetor A de 10 elementos inteiros. Construir um valor B de mesmo tipo, sendo que cada elemento do Vetor B deve ser o cubo de cada elemento correspondente ao vetor A. Apresentar no final os dois valores.\n",
        "\n",
        "4. Leia um vetor A de 10 elementos e apresente:\n",
        "- O somatorio de todos os valores.\n",
        "- A média de todos os valores.\n",
        "- A quandidade de valores negativos.\n",
        "\n",
        "5. Leia o vetor nomes e vetor notas, nos quais devem ser informados os nomes dos alunos e das notas, respectivamente em cada vetor. Ao final, mostrar o nome do aluno e sua nota.\n"
      ],
      "metadata": {
        "id": "fEVDtIY0YFuP"
      }
    },
    {
      "cell_type": "markdown",
      "source": [
        "### Leia um vetor A de 10 elementos inteiros e um valor individual X. A seguir, imprimir o valor do vetor a em que aparece um valor igual a X."
      ],
      "metadata": {
        "id": "UFtoFPYjbDhv"
      }
    },
    {
      "cell_type": "code",
      "execution_count": 14,
      "metadata": {
        "colab": {
          "base_uri": "https://localhost:8080/"
        },
        "id": "xB_YOiGaYCsU",
        "outputId": "dac60e70-ef7a-42b1-ee11-a0368371e625"
      },
      "outputs": [
        {
          "name": "stdout",
          "output_type": "stream",
          "text": [
            "Informe um valor: 4\n",
            "Informe um valor: 54\n",
            "Informe um valor: 3\n",
            "Informe um valor: 43\n",
            "Informe um valor: 23\n",
            "Informe um valor: 43\n",
            "Informe um valor: 34\n",
            "Informe um valor: 43\n",
            "Informe um valor: 23\n",
            "Informe um valor: 43\n",
            "Informe outro número: 32\n"
          ]
        }
      ],
      "source": [
        "import numpy\n",
        "\n",
        "vetor = numpy.empty(10, dtype=numpy.int32)\n",
        "\n",
        "for posicao in range(0,10):\n",
        "\n",
        "  valor = int(input('Informe um valor: '))\n",
        "  vetor[posicao] = valor\n",
        "\n",
        "valor = int(input('Informe outro número: '))\n",
        "\n",
        "for posicao in range(0,10):\n",
        "  if valor == vetor[posicao]:\n",
        "    print('Posição: ',posicao+1)\n"
      ]
    },
    {
      "cell_type": "markdown",
      "source": [
        "### Leia um vetor A de 10 elementos inteiros e um valor individual X. a seguir, imprimir \"Achei\" se o valor existir em A e \"não achei\", caso contrário."
      ],
      "metadata": {
        "id": "C1u-BSDPinpz"
      }
    },
    {
      "cell_type": "code",
      "source": [
        "import numpy\n",
        "\n",
        "vetor = numpy.empty(10, dtype=numpy.int32)\n",
        "\n",
        "for posicao in range(0,10):\n",
        "\n",
        "  valor = int(input('Informe um valor: '))\n",
        "  vetor[posicao] = valor\n",
        "\n",
        "valor = int(input('Informe outro número: '))\n",
        "achei = False\n",
        "for posicao in range(0,10):\n",
        "  if valor == vetor[posicao] and achei == False:\n",
        "    print('Achei')\n",
        "    achei = True\n",
        "\n",
        "if achei == False:\n",
        "  print('Não achei')"
      ],
      "metadata": {
        "colab": {
          "base_uri": "https://localhost:8080/"
        },
        "id": "pt4rb9QSipfQ",
        "outputId": "c21a8d5a-bd28-4830-ca3d-88246fc133df"
      },
      "execution_count": 17,
      "outputs": [
        {
          "output_type": "stream",
          "name": "stdout",
          "text": [
            "Informe um valor: 34\n",
            "Informe um valor: 43\n",
            "Informe um valor: 23\n",
            "Informe um valor: 43\n",
            "Informe um valor: 34\n",
            "Informe um valor: 23\n",
            "Informe um valor: 43\n",
            "Informe um valor: 23\n",
            "Informe um valor: 12\n",
            "Informe um valor: 43\n",
            "Informe outro número: 23\n",
            "Achei\n"
          ]
        }
      ]
    },
    {
      "cell_type": "markdown",
      "source": [
        "### Leia um vetor A de 10 elementos inteiros. Construir um valor B de mesmo tipo, sendo que cada elemento do Vetor B deve ser o cubo de cada elemento correspondente ao vetor A. Apresentar no final os dois valores."
      ],
      "metadata": {
        "id": "stLvlMoxkhoi"
      }
    },
    {
      "cell_type": "code",
      "source": [
        "import numpy\n",
        "\n",
        "vetorA = numpy.empty(10, dtype=numpy.int32)\n",
        "vetorB = numpy.empty(10, dtype=numpy.int32)\n",
        "\n",
        "for posicao in range(0,10):\n",
        "\n",
        "  valor = int(input('Informe um valor: '))\n",
        "  vetorA[posicao] = valor\n",
        "  vetorB[2posicao] = valor * valor * valor\n",
        "\n",
        "for posicao in range(0,10):\n",
        "  print(vetorA[posicao],' ao cubo ',vetorB[posicao])"
      ],
      "metadata": {
        "colab": {
          "base_uri": "https://localhost:8080/"
        },
        "id": "wtatetJmkjK9",
        "outputId": "1171fa3b-66db-44ed-84e9-afa6bde65d14"
      },
      "execution_count": 18,
      "outputs": [
        {
          "output_type": "stream",
          "name": "stdout",
          "text": [
            "Informe um valor: 4\n",
            "Informe um valor: 5\n",
            "Informe um valor: 7\n",
            "Informe um valor: 8\n",
            "Informe um valor: 9\n",
            "Informe um valor: 7\n",
            "Informe um valor: 54\n",
            "Informe um valor: 34\n",
            "Informe um valor: 2\n",
            "Informe um valor: 1\n",
            "4  ao cubo  64\n",
            "5  ao cubo  125\n",
            "7  ao cubo  343\n",
            "8  ao cubo  512\n",
            "9  ao cubo  729\n",
            "7  ao cubo  343\n",
            "54  ao cubo  157464\n",
            "34  ao cubo  39304\n",
            "2  ao cubo  8\n",
            "1  ao cubo  1\n"
          ]
        }
      ]
    },
    {
      "cell_type": "markdown",
      "source": [
        "### Leia um vetor A de 10 elementos e apresente:\n",
        "\n",
        "- O somatorio de todos os valores.\n",
        "- A média de todos os valores.\n",
        "- A quandidade de valores negativos."
      ],
      "metadata": {
        "id": "Gm4wd9L2lKEg"
      }
    },
    {
      "cell_type": "code",
      "source": [
        "import numpy\n",
        "\n",
        "vetor = numpy.empty(10, dtype=numpy.int32)\n",
        "soma = 0\n",
        "media = 0\n",
        "negativos = 0\n",
        "for posicao in range(0,10):\n",
        "\n",
        "  valor = int(input('Informe um valor: '))\n",
        "  vetor[posicao] = valor\n",
        "  soma += valor\n",
        "  if valor < 0:\n",
        "    negativos += 1\n",
        "\n",
        "print ('A soma é ',soma)\n",
        "print ('A média é ',soma/10)\n",
        "print ('Total de negativos: ',negativos)"
      ],
      "metadata": {
        "colab": {
          "base_uri": "https://localhost:8080/"
        },
        "id": "bRGRzVy5lTFB",
        "outputId": "bf5f3924-c7e7-4201-dbab-d5a3c651be60"
      },
      "execution_count": 19,
      "outputs": [
        {
          "output_type": "stream",
          "name": "stdout",
          "text": [
            "Informe um valor: 4\n",
            "Informe um valor: 54\n",
            "Informe um valor: -3\n",
            "Informe um valor: 4\n",
            "Informe um valor: -54\n",
            "Informe um valor: -55\n",
            "Informe um valor: -6\n",
            "Informe um valor: 43\n",
            "Informe um valor: 23\n",
            "Informe um valor: 43\n",
            "A soma é  53\n",
            "A média é  5.3\n",
            "Total de negativos:  4\n"
          ]
        }
      ]
    },
    {
      "cell_type": "markdown",
      "source": [
        "### Leia o vetor nomes e vetor notas, nos quais devem ser informados os nomes dos alunos e das notas, respectivamente em cada vetor. Ao final, mostrar o nome do aluno e sua nota."
      ],
      "metadata": {
        "id": "LLH-Einql2TL"
      }
    },
    {
      "cell_type": "code",
      "source": [
        "import numpy\n",
        "\n",
        "nomes = numpy.empty(5, dtype=object)\n",
        "notas = numpy.empty(5)\n",
        "\n",
        "for posicao in range(0,5):\n",
        "  nomes[posicao] = input('Digite o nome: ')\n",
        "  notas[posicao] = float(input('Digite a nota: '))\n",
        "\n",
        "for posicao in range(0,5):\n",
        "  print (nomes[posicao],'  -  ',notas[posicao])"
      ],
      "metadata": {
        "colab": {
          "base_uri": "https://localhost:8080/"
        },
        "id": "mt_2oQRWl33t",
        "outputId": "603f14ed-ed83-410e-8882-e0411d7b0188"
      },
      "execution_count": 23,
      "outputs": [
        {
          "output_type": "stream",
          "name": "stdout",
          "text": [
            "Digite o nome: Allexa\n",
            "Digite a nota: 3\n",
            "Digite o nome: Fernando\n",
            "Digite a nota: 4\n",
            "Digite o nome: Isabele\n",
            "Digite a nota: 9\n",
            "Digite o nome: Renata 10\n",
            "Digite a nota: 10\n",
            "Digite o nome: Arnaldo\n",
            "Digite a nota: 9\n",
            "Allexa   -   3.0\n",
            "Fernando   -   4.0\n",
            "Isabele   -   9.0\n",
            "Renata 10   -   10.0\n",
            "Arnaldo   -   9.0\n"
          ]
        }
      ]
    }
  ]
}