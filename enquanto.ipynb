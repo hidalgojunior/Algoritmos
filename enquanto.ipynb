{
  "nbformat": 4,
  "nbformat_minor": 0,
  "metadata": {
    "colab": {
      "provenance": [],
      "authorship_tag": "ABX9TyO0rh5ofzwBahDMnuiEKW3X",
      "include_colab_link": true
    },
    "kernelspec": {
      "name": "python3",
      "display_name": "Python 3"
    },
    "language_info": {
      "name": "python"
    }
  },
  "cells": [
    {
      "cell_type": "markdown",
      "metadata": {
        "id": "view-in-github",
        "colab_type": "text"
      },
      "source": [
        "<a href=\"https://colab.research.google.com/github/hidalgojunior/Algoritmos/blob/main/enquanto.ipynb\" target=\"_parent\"><img src=\"https://colab.research.google.com/assets/colab-badge.svg\" alt=\"Open In Colab\"/></a>"
      ]
    },
    {
      "cell_type": "markdown",
      "source": [
        "# Estruturas de repetição\n",
        "- Estruturas de repetição também são conhecidos como laços.\n",
        "- Estruturas de repetição são utilizadas para quando executar repetidamente uma instrução, enquanto condição for satisfeita.\n",
        "- Exemplo: \n",
        "  - calcular a folha de pagamento de um funcionário ou N funcionários, o processo de calculo é o mesmo.\n",
        "\n"
      ],
      "metadata": {
        "id": "oTvULdQZ8fAh"
      }
    },
    {
      "cell_type": "markdown",
      "source": [
        "Estruturas de repetição, existem 2 tipos de variáveis utilizadas.\n",
        "- Contador: Tem a função de contar quantas vezes o laço foi executado.\n",
        "- Acumulador: Tem a função de acumular valores para futura utlização (ex. Somatório)."
      ],
      "metadata": {
        "id": "GQbLdhazFkf6"
      }
    },
    {
      "cell_type": "code",
      "execution_count": null,
      "metadata": {
        "colab": {
          "base_uri": "https://localhost:8080/"
        },
        "id": "QUgoyqhb65pK",
        "outputId": "e52fd35f-67f6-4948-ae98-0f4141700121"
      },
      "outputs": [
        {
          "output_type": "stream",
          "name": "stdout",
          "text": [
            "Mensagem  1\n",
            "Mensagem  2\n",
            "Mensagem  3\n",
            "Mensagem  4\n",
            "Mensagem  5\n"
          ]
        }
      ],
      "source": [
        "contador = 1\n",
        "\n",
        "while contador <= 5:\n",
        "  print('Mensagem ',contador)\n",
        "  contador = contador + 1"
      ]
    },
    {
      "cell_type": "code",
      "source": [
        "contador = 1\n",
        "nota = 0\n",
        "soma = 0\n",
        "while contador <= 5:\n",
        "    print('Informe a nota ',contador)\n",
        "    nota = float(input())\n",
        "    soma = soma + nota\n",
        "    contador = contador + 1\n",
        "media = soma / 5\n",
        "print ('A média é ',media)"
      ],
      "metadata": {
        "colab": {
          "base_uri": "https://localhost:8080/"
        },
        "id": "mxUIkU5n-zxQ",
        "outputId": "596fdcae-f8a9-46c4-b833-cb4551fac222"
      },
      "execution_count": null,
      "outputs": [
        {
          "output_type": "stream",
          "name": "stdout",
          "text": [
            "Informe a nota  1\n",
            "5\n",
            "Informe a nota  2\n",
            "5\n",
            "Informe a nota  3\n",
            "6\n",
            "Informe a nota  4\n",
            "6\n",
            "Informe a nota  5\n",
            "8\n",
            "A média é  6.0\n"
          ]
        }
      ]
    },
    {
      "cell_type": "markdown",
      "source": [
        "# Exercícios\n",
        "1. **(CONTADOR)** Apresentar o quadrado dos números de 15 a 200.\n",
        "\n",
        "2. **(ACUMULADOR)** Apresentar o total da soma dos primeiros cem números inteiros (1+2+...+98+99+100)\n",
        "\n",
        "3. **(CONTADOR)** Escrever um algoritmo que lê 5 valores para a variavel A, um de cada vez, e conta quantos são negativos. Após a leitura, o programa deve mostrar a quantidade de valores negativos.\n",
        "\n",
        "4. **(VALIDADOR)** Ler duas notas e informar a média. Se o valor digitado for menor que zero ou maior que dez, o usuário deve informar a nota novamente.\n",
        "\n",
        "5. **(USUARIO)** Ler os valores de comprimento, largura e altura e apresentar o valor do volume de uma caixa retangular. Utilize para o cálculo a fórmula VOLUME = COMPRIMENTO * LARGURA * ALTURA. Ao final do programa de cálculo, perguntar se o usuário deseja continuar o programa fazendo nova leitura.\n"
      ],
      "metadata": {
        "id": "BaOkgI_r7AXF"
      }
    },
    {
      "cell_type": "markdown",
      "source": [
        "# Respostas"
      ],
      "metadata": {
        "id": "wUbrykQqBz7p"
      }
    },
    {
      "cell_type": "markdown",
      "source": [
        "## **(CONTADOR)** Apresentar o quadrado dos números de 15 a 200."
      ],
      "metadata": {
        "id": "H8vO22SlB1-E"
      }
    },
    {
      "cell_type": "code",
      "source": [
        "contador = 15\n",
        "\n",
        "while contador <= 200:\n",
        "  quadrado = contador * contador\n",
        "  print(contador, ' e seu qudrado',quadrado)\n",
        "  contador += 1"
      ],
      "metadata": {
        "colab": {
          "base_uri": "https://localhost:8080/"
        },
        "id": "XwJ0-XiSB5zw",
        "outputId": "c69e8de2-aa81-4832-bc6c-a7d022f65ae4"
      },
      "execution_count": null,
      "outputs": [
        {
          "output_type": "stream",
          "name": "stdout",
          "text": [
            "15  e seu qudrado 225\n",
            "16  e seu qudrado 256\n",
            "17  e seu qudrado 289\n",
            "18  e seu qudrado 324\n",
            "19  e seu qudrado 361\n",
            "20  e seu qudrado 400\n",
            "21  e seu qudrado 441\n",
            "22  e seu qudrado 484\n",
            "23  e seu qudrado 529\n",
            "24  e seu qudrado 576\n",
            "25  e seu qudrado 625\n",
            "26  e seu qudrado 676\n",
            "27  e seu qudrado 729\n",
            "28  e seu qudrado 784\n",
            "29  e seu qudrado 841\n",
            "30  e seu qudrado 900\n",
            "31  e seu qudrado 961\n",
            "32  e seu qudrado 1024\n",
            "33  e seu qudrado 1089\n",
            "34  e seu qudrado 1156\n",
            "35  e seu qudrado 1225\n",
            "36  e seu qudrado 1296\n",
            "37  e seu qudrado 1369\n",
            "38  e seu qudrado 1444\n",
            "39  e seu qudrado 1521\n",
            "40  e seu qudrado 1600\n",
            "41  e seu qudrado 1681\n",
            "42  e seu qudrado 1764\n",
            "43  e seu qudrado 1849\n",
            "44  e seu qudrado 1936\n",
            "45  e seu qudrado 2025\n",
            "46  e seu qudrado 2116\n",
            "47  e seu qudrado 2209\n",
            "48  e seu qudrado 2304\n",
            "49  e seu qudrado 2401\n",
            "50  e seu qudrado 2500\n",
            "51  e seu qudrado 2601\n",
            "52  e seu qudrado 2704\n",
            "53  e seu qudrado 2809\n",
            "54  e seu qudrado 2916\n",
            "55  e seu qudrado 3025\n",
            "56  e seu qudrado 3136\n",
            "57  e seu qudrado 3249\n",
            "58  e seu qudrado 3364\n",
            "59  e seu qudrado 3481\n",
            "60  e seu qudrado 3600\n",
            "61  e seu qudrado 3721\n",
            "62  e seu qudrado 3844\n",
            "63  e seu qudrado 3969\n",
            "64  e seu qudrado 4096\n",
            "65  e seu qudrado 4225\n",
            "66  e seu qudrado 4356\n",
            "67  e seu qudrado 4489\n",
            "68  e seu qudrado 4624\n",
            "69  e seu qudrado 4761\n",
            "70  e seu qudrado 4900\n",
            "71  e seu qudrado 5041\n",
            "72  e seu qudrado 5184\n",
            "73  e seu qudrado 5329\n",
            "74  e seu qudrado 5476\n",
            "75  e seu qudrado 5625\n",
            "76  e seu qudrado 5776\n",
            "77  e seu qudrado 5929\n",
            "78  e seu qudrado 6084\n",
            "79  e seu qudrado 6241\n",
            "80  e seu qudrado 6400\n",
            "81  e seu qudrado 6561\n",
            "82  e seu qudrado 6724\n",
            "83  e seu qudrado 6889\n",
            "84  e seu qudrado 7056\n",
            "85  e seu qudrado 7225\n",
            "86  e seu qudrado 7396\n",
            "87  e seu qudrado 7569\n",
            "88  e seu qudrado 7744\n",
            "89  e seu qudrado 7921\n",
            "90  e seu qudrado 8100\n",
            "91  e seu qudrado 8281\n",
            "92  e seu qudrado 8464\n",
            "93  e seu qudrado 8649\n",
            "94  e seu qudrado 8836\n",
            "95  e seu qudrado 9025\n",
            "96  e seu qudrado 9216\n",
            "97  e seu qudrado 9409\n",
            "98  e seu qudrado 9604\n",
            "99  e seu qudrado 9801\n",
            "100  e seu qudrado 10000\n",
            "101  e seu qudrado 10201\n",
            "102  e seu qudrado 10404\n",
            "103  e seu qudrado 10609\n",
            "104  e seu qudrado 10816\n",
            "105  e seu qudrado 11025\n",
            "106  e seu qudrado 11236\n",
            "107  e seu qudrado 11449\n",
            "108  e seu qudrado 11664\n",
            "109  e seu qudrado 11881\n",
            "110  e seu qudrado 12100\n",
            "111  e seu qudrado 12321\n",
            "112  e seu qudrado 12544\n",
            "113  e seu qudrado 12769\n",
            "114  e seu qudrado 12996\n",
            "115  e seu qudrado 13225\n",
            "116  e seu qudrado 13456\n",
            "117  e seu qudrado 13689\n",
            "118  e seu qudrado 13924\n",
            "119  e seu qudrado 14161\n",
            "120  e seu qudrado 14400\n",
            "121  e seu qudrado 14641\n",
            "122  e seu qudrado 14884\n",
            "123  e seu qudrado 15129\n",
            "124  e seu qudrado 15376\n",
            "125  e seu qudrado 15625\n",
            "126  e seu qudrado 15876\n",
            "127  e seu qudrado 16129\n",
            "128  e seu qudrado 16384\n",
            "129  e seu qudrado 16641\n",
            "130  e seu qudrado 16900\n",
            "131  e seu qudrado 17161\n",
            "132  e seu qudrado 17424\n",
            "133  e seu qudrado 17689\n",
            "134  e seu qudrado 17956\n",
            "135  e seu qudrado 18225\n",
            "136  e seu qudrado 18496\n",
            "137  e seu qudrado 18769\n",
            "138  e seu qudrado 19044\n",
            "139  e seu qudrado 19321\n",
            "140  e seu qudrado 19600\n",
            "141  e seu qudrado 19881\n",
            "142  e seu qudrado 20164\n",
            "143  e seu qudrado 20449\n",
            "144  e seu qudrado 20736\n",
            "145  e seu qudrado 21025\n",
            "146  e seu qudrado 21316\n",
            "147  e seu qudrado 21609\n",
            "148  e seu qudrado 21904\n",
            "149  e seu qudrado 22201\n",
            "150  e seu qudrado 22500\n",
            "151  e seu qudrado 22801\n",
            "152  e seu qudrado 23104\n",
            "153  e seu qudrado 23409\n",
            "154  e seu qudrado 23716\n",
            "155  e seu qudrado 24025\n",
            "156  e seu qudrado 24336\n",
            "157  e seu qudrado 24649\n",
            "158  e seu qudrado 24964\n",
            "159  e seu qudrado 25281\n",
            "160  e seu qudrado 25600\n",
            "161  e seu qudrado 25921\n",
            "162  e seu qudrado 26244\n",
            "163  e seu qudrado 26569\n",
            "164  e seu qudrado 26896\n",
            "165  e seu qudrado 27225\n",
            "166  e seu qudrado 27556\n",
            "167  e seu qudrado 27889\n",
            "168  e seu qudrado 28224\n",
            "169  e seu qudrado 28561\n",
            "170  e seu qudrado 28900\n",
            "171  e seu qudrado 29241\n",
            "172  e seu qudrado 29584\n",
            "173  e seu qudrado 29929\n",
            "174  e seu qudrado 30276\n",
            "175  e seu qudrado 30625\n",
            "176  e seu qudrado 30976\n",
            "177  e seu qudrado 31329\n",
            "178  e seu qudrado 31684\n",
            "179  e seu qudrado 32041\n",
            "180  e seu qudrado 32400\n",
            "181  e seu qudrado 32761\n",
            "182  e seu qudrado 33124\n",
            "183  e seu qudrado 33489\n",
            "184  e seu qudrado 33856\n",
            "185  e seu qudrado 34225\n",
            "186  e seu qudrado 34596\n",
            "187  e seu qudrado 34969\n",
            "188  e seu qudrado 35344\n",
            "189  e seu qudrado 35721\n",
            "190  e seu qudrado 36100\n",
            "191  e seu qudrado 36481\n",
            "192  e seu qudrado 36864\n",
            "193  e seu qudrado 37249\n",
            "194  e seu qudrado 37636\n",
            "195  e seu qudrado 38025\n",
            "196  e seu qudrado 38416\n",
            "197  e seu qudrado 38809\n",
            "198  e seu qudrado 39204\n",
            "199  e seu qudrado 39601\n",
            "200  e seu qudrado 40000\n"
          ]
        }
      ]
    },
    {
      "cell_type": "markdown",
      "source": [
        "## (ACUMULADOR) Apresentar o total da soma dos primeiros cem números inteiros (1+2+...+98+99+100)"
      ],
      "metadata": {
        "id": "lGlWAagXCdNx"
      }
    },
    {
      "cell_type": "code",
      "source": [
        "contador = 1\n",
        "while contador <= 100:\n",
        "  soma += contador\n",
        "  contador += 1\n",
        "\n",
        "print('A soma é ',soma)"
      ],
      "metadata": {
        "colab": {
          "base_uri": "https://localhost:8080/"
        },
        "id": "UlBO4Z8tCnkO",
        "outputId": "df2b3db9-6dfa-4022-e0a9-43e0c806af05"
      },
      "execution_count": null,
      "outputs": [
        {
          "output_type": "stream",
          "name": "stdout",
          "text": [
            "A soma é  5050.0\n"
          ]
        }
      ]
    },
    {
      "cell_type": "markdown",
      "source": [
        "## (CONTADOR) Escrever um algoritmo que lê 5 valores para a variavel A, um de cada vez, e conta quantos são negativos. Após a leitura, o programa deve mostrar a quantidade de valores negativos.\n"
      ],
      "metadata": {
        "id": "ODvcoziZEFoS"
      }
    },
    {
      "cell_type": "code",
      "source": [
        "contador = 1\n",
        "negativos = 0\n",
        "while contador <= 5:\n",
        "  numero = int(input('Informe um número inteiro: '))\n",
        "  if (numero < 0):\n",
        "    negativos = negativos + 1\n",
        "  contador = contador + 1\n",
        "\n",
        "print('Total de Negativos: ',negativos)"
      ],
      "metadata": {
        "colab": {
          "base_uri": "https://localhost:8080/"
        },
        "id": "XdpCR8wiEHgW",
        "outputId": "a4af737c-df3b-4b61-d5f9-186887fa8a0b"
      },
      "execution_count": null,
      "outputs": [
        {
          "output_type": "stream",
          "name": "stdout",
          "text": [
            "Informe um número inteiro: -5\n",
            "Informe um número inteiro: 3\n",
            "Informe um número inteiro: -3\n",
            "Informe um número inteiro: -2\n",
            "Informe um número inteiro: 3\n",
            "Total de Negativos:  3\n"
          ]
        }
      ]
    },
    {
      "cell_type": "markdown",
      "source": [
        "## (VALIDADOR) Ler duas notas e informar a média. Se o valor digitado for menor que zero ou maior que dez, o usuário deve informar a nota novamente.\n"
      ],
      "metadata": {
        "id": "_19X1u_FFKCL"
      }
    },
    {
      "cell_type": "code",
      "source": [
        "nota1 = -2\n",
        "nota2 = -1\n",
        "while nota1 < 0 or nota1 > 10 :\n",
        "  nota1 = float(input('Informe a primeira nota: '))\n",
        "while nota2< 0 or nota2 > 10 :\n",
        "  nota2 = float(input('Informe a segunda nota: '))\n",
        "media = (nota1 + nota2)/2\n",
        "print('A média é ',media)\n"
      ],
      "metadata": {
        "colab": {
          "base_uri": "https://localhost:8080/"
        },
        "id": "AcnB-brLFP8g",
        "outputId": "2d8668f7-bf76-4cfd-8a04-eaaaaab59efa"
      },
      "execution_count": null,
      "outputs": [
        {
          "output_type": "stream",
          "name": "stdout",
          "text": [
            "Informe a primeira nota: 10\n",
            "Informe a segunda nota: 32\n",
            "Informe a segunda nota: 4\n",
            "A média é  7.0\n"
          ]
        }
      ]
    },
    {
      "cell_type": "markdown",
      "source": [
        "## (USUARIO) Ler os valores de comprimento, largura e altura e apresentar o valor do volume de uma caixa retangular. Utilize para o cálculo a fórmula VOLUME = COMPRIMENTO * LARGURA * ALTURA. Ao final do programa de cálculo, perguntar se o usuário deseja continuar o programa fazendo nova leitura.\n"
      ],
      "metadata": {
        "id": "WPuSeVxAHg0Y"
      }
    },
    {
      "cell_type": "code",
      "source": [
        "continua = 's'\n",
        "\n",
        "while continua == 's':\n",
        "  comprimento = float(input('Informe o comprimento: '))\n",
        "  largura = float(input('Informe a largura: '))\n",
        "  altura = float(input('Informe a altura: '))\n",
        "  volume = comprimento * largura * altura\n",
        "  print('O volume é ',volume)\n",
        "  continua = input('Deseja realmente continuar(s/n)? ')"
      ],
      "metadata": {
        "colab": {
          "base_uri": "https://localhost:8080/"
        },
        "id": "qLoTH7grHiTf",
        "outputId": "de90a9a6-1c62-463c-8296-a5dd7b6c04bf"
      },
      "execution_count": null,
      "outputs": [
        {
          "name": "stdout",
          "output_type": "stream",
          "text": [
            "Informe o comprimento: 3\n",
            "Informe a largura: 4\n",
            "Informe a altura: 5\n",
            "O volume é  60.0\n",
            "Deseja realmente continuar(s/n)? s\n",
            "Informe o comprimento: 3\n",
            "Informe a largura: 4\n",
            "Informe a altura: 2\n",
            "O volume é  24.0\n",
            "Deseja realmente continuar(s/n)? n\n"
          ]
        }
      ]
    }
  ]
}