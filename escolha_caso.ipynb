{
  "nbformat": 4,
  "nbformat_minor": 0,
  "metadata": {
    "colab": {
      "provenance": [],
      "authorship_tag": "ABX9TyMKO1u+ZDxBSHLTCqh7fsbB",
      "include_colab_link": true
    },
    "kernelspec": {
      "name": "python3",
      "display_name": "Python 3"
    },
    "language_info": {
      "name": "python"
    }
  },
  "cells": [
    {
      "cell_type": "markdown",
      "metadata": {
        "id": "view-in-github",
        "colab_type": "text"
      },
      "source": [
        "<a href=\"https://colab.research.google.com/github/hidalgojunior/Algoritmos/blob/main/escolha_caso.ipynb\" target=\"_parent\"><img src=\"https://colab.research.google.com/assets/colab-badge.svg\" alt=\"Open In Colab\"/></a>"
      ]
    },
    {
      "cell_type": "markdown",
      "source": [
        "# Revisão\n",
        "\n",
        "## **Escolha caso, não implementado até agora.**\n",
        "\n",
        "Leia um número inteiro e mostre mensagem informando o dia da semana ( 1- domingo até 7- sábado). Caso o usuário informe o número menor que 0 ou maior que 7, mostrar a mensagem indicada."
      ],
      "metadata": {
        "id": "uqTZgp385xdn"
      }
    },
    {
      "cell_type": "markdown",
      "source": [
        "# Exercícios\n",
        "1. Leia a variavel do tipo char e mostre na tela se a letra digitada é uma vogal ou uma consoante.\n",
        "2. Leia dois números reais e uma operacao, e com isso imprima o resultado de acordo com a operacao escolhida: adição (a), subtração (s), multiplicação (m), divisão (d). Caso seja operação invalida, mostrar na tela."
      ],
      "metadata": {
        "id": "cefOviUc5POl"
      }
    }
  ]
}