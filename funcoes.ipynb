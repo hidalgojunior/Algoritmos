{
  "nbformat": 4,
  "nbformat_minor": 0,
  "metadata": {
    "colab": {
      "provenance": [],
      "authorship_tag": "ABX9TyPM5/AHm1s2yh1UdhpMsqZu",
      "include_colab_link": true
    },
    "kernelspec": {
      "name": "python3",
      "display_name": "Python 3"
    },
    "language_info": {
      "name": "python"
    }
  },
  "cells": [
    {
      "cell_type": "markdown",
      "metadata": {
        "id": "view-in-github",
        "colab_type": "text"
      },
      "source": [
        "<a href=\"https://colab.research.google.com/github/hidalgojunior/Algoritmos/blob/main/funcoes.ipynb\" target=\"_parent\"><img src=\"https://colab.research.google.com/assets/colab-badge.svg\" alt=\"Open In Colab\"/></a>"
      ]
    },
    {
      "cell_type": "markdown",
      "source": [
        "# Funções\n",
        "\n",
        "  - É uma das principais caracteristicas da programação\n",
        "  - Divisão dos problemas complexos em pequenos programas\n",
        "  - É um pequeno programa dentro de outro programa\n",
        "  - \"Programas aninhados\"\n",
        "  - Trechos do programa que recebem um determinado nome e podem ser chamados várias vezes durante a execução.\n",
        "  - Principais vantagens:\n",
        "    - Reutilização do código\n",
        "    - Modularidade\n",
        "    - Facilidade da manutenção de sistema.\n",
        "\n",
        "## Exercícios\n",
        "\n",
        "1. Crie uma função que exiba a palavra \"PROGRAMAÇÃO\" 10 vezes.\n",
        "2. Ler uma temperatura em graus Celsius e apresenta-la convertida em graus Fahrenheit. A fórmula de conversão F = (9 * C + 160)/5, na qual F é a temperatura Fahrenhei e C é a temperatura Celsius.\n",
        "3. Efetuar o cálculo da quantidade de litros de combustível gastos em uma viagem utilizando um automovel que faz 12 km com um litro. Para obter o calculo, o usuário deve fornecer o tempo gasto na viagem e a velocidade média durante ela. Desta forma, será  possível obter a distância percorrida com a fórmula DISTANCIA = TEMPO * VELOCIDADE. Tendo o valor da distância, basta calcular a quantidade de litros de combustível utilizada na viagem, a distância percorrida e a quantidade de litros utilizados na viagem.\n",
        "  - Função para ler os valores\n",
        "  - Função para calcular a distância\n",
        "  - Função para calcular a quantidade de litros\n",
        "  - Função para apresentar o resultado."
      ],
      "metadata": {
        "id": "f0EsqbBO6MYX"
      }
    },
    {
      "cell_type": "code",
      "execution_count": 4,
      "metadata": {
        "colab": {
          "base_uri": "https://localhost:8080/"
        },
        "id": "9hoz8upu6KWO",
        "outputId": "c0d60998-eea9-4dbd-995e-40661df729ad"
      },
      "outputs": [
        {
          "output_type": "stream",
          "name": "stdout",
          "text": [
            "Informe o valor 1:\n",
            "5\n",
            "Informe o valor 2:\n",
            "30\n",
            "Soma  35\n"
          ]
        }
      ],
      "source": [
        "valor1 = 0\n",
        "valor2 = 0\n",
        "soma = 0\n",
        "\n",
        "def leitura():\n",
        "  print('Informe o valor 1:')\n",
        "  global valor1\n",
        "  valor1 = int(input())\n",
        "  print('Informe o valor 2:')\n",
        "  global valor2 \n",
        "  valor2 = int(input())\n",
        "\n",
        "def soma():\n",
        "  global soma\n",
        "  soma = valor1 + valor2\n",
        "\n",
        "def resultado():\n",
        "  print('Soma ',soma)\n",
        "\n",
        "if __name__ == '__main__':\n",
        "  leitura()\n",
        "  soma()\n",
        "  resultado()\n"
      ]
    },
    {
      "cell_type": "markdown",
      "source": [
        "### Crie uma função que exiba a palavra \"PROGRAMAÇÃO\" 10 vezes."
      ],
      "metadata": {
        "id": "o5Op3s_z9bed"
      }
    },
    {
      "cell_type": "code",
      "source": [
        "def mensagem():\n",
        "  for contador in range (0, 10):\n",
        "    print('PROGRAMAÇÃO')\n",
        "\n",
        "mensagem()"
      ],
      "metadata": {
        "colab": {
          "base_uri": "https://localhost:8080/"
        },
        "id": "Ko3n5XJyAhzj",
        "outputId": "1e5b1971-c2c6-48fe-c445-ef88607197c5"
      },
      "execution_count": 8,
      "outputs": [
        {
          "output_type": "stream",
          "name": "stdout",
          "text": [
            "PROGRAMAÇÃO\n",
            "PROGRAMAÇÃO\n",
            "PROGRAMAÇÃO\n",
            "PROGRAMAÇÃO\n",
            "PROGRAMAÇÃO\n",
            "PROGRAMAÇÃO\n",
            "PROGRAMAÇÃO\n",
            "PROGRAMAÇÃO\n",
            "PROGRAMAÇÃO\n",
            "PROGRAMAÇÃO\n"
          ]
        }
      ]
    },
    {
      "cell_type": "markdown",
      "source": [
        "## Ler uma temperatura em graus Celsius e apresenta-la convertida em graus Fahrenheit. A fórmula de conversão F = (9 * C + 160)/5, na qual F é a temperatura Fahrenhei e C é a temperatura Celsius."
      ],
      "metadata": {
        "id": "hbat9srTAZTR"
      }
    },
    {
      "cell_type": "code",
      "source": [
        "C = 0\n",
        "F = 0\n",
        "\n",
        "def leitura():\n",
        "  print ('Digite a temperatura em graus Celsius: ')\n",
        "  global C\n",
        "  C = float(input())\n",
        "\n",
        "def conversao():\n",
        "  global F\n",
        "  F = (9 * C + 160)/5\n",
        "\n",
        "def resultado():\n",
        "  print ('Temperatura em Fahrenheit: ',F)\n",
        "\n",
        "if __name__ == '__main__':\n",
        "  leitura()\n",
        "  conversao()\n",
        "  resultado()"
      ],
      "metadata": {
        "colab": {
          "base_uri": "https://localhost:8080/"
        },
        "id": "Z73XGgD-Aa4a",
        "outputId": "be31c5d9-6c16-43fa-d9a7-1d6d81101fdf"
      },
      "execution_count": 16,
      "outputs": [
        {
          "output_type": "stream",
          "name": "stdout",
          "text": [
            "Digite a temperatura em graus Celsius: \n",
            "40\n",
            "Temperatura em Fahrenheit:  104.0\n"
          ]
        }
      ]
    },
    {
      "cell_type": "markdown",
      "source": [
        "### Efetuar o cálculo da quantidade de litros de combustível gastos em uma viagem utilizando um automovel que faz 12 km com um litro. Para obter o calculo, o usuário deve fornecer o tempo gasto na viagem e a velocidade média durante ela. Desta forma, será possível obter a distância percorrida com a fórmula DISTANCIA = TEMPO * VELOCIDADE. Tendo o valor da distância, basta calcular a quantidade de litros de combustível utilizada na viagem, a distância percorrida e a quantidade de litros utilizados na viagem.\n",
        "  - Função para ler os valores\n",
        "  - Função para calcular a distância\n",
        "  - Função para calcular a quantidade de litros\n",
        "  - Função para apresentar o resultado."
      ],
      "metadata": {
        "id": "Ge5j7hhCChPt"
      }
    },
    {
      "cell_type": "code",
      "source": [
        "tempo = 0\n",
        "velocidade = 0\n",
        "distancia = 0\n",
        "litros = 0\n",
        "\n",
        "def leitura():\n",
        "  print('Digite o tempo de viagem: ')\n",
        "  global tempo\n",
        "  tempo = int(input())\n",
        "  print('Digite a velocidade média: ')\n",
        "  global velocidade\n",
        "  velocidade = float(input())\n",
        "\n",
        "def calcula_distancia():\n",
        "  global distancia\n",
        "  distancia = tempo * velocidade\n",
        "\n",
        "def calcula_litros():\n",
        "  global litros\n",
        "  litros = distancia / 12\n",
        "\n",
        "def resultado():\n",
        "  print('Tempo: ',tempo)\n",
        "  print('Velocidade: ',velocidade)\n",
        "  print('Distanacia: ',distancia)\n",
        "  print('Litros: ',litros)\n",
        "\n",
        "if __name__ in '__main__':\n",
        "  leitura()\n",
        "  calcula_distancia()\n",
        "  calcula_litros()\n",
        "  resultado()"
      ],
      "metadata": {
        "colab": {
          "base_uri": "https://localhost:8080/"
        },
        "id": "k5Yhxi-sCnz0",
        "outputId": "04184b01-5790-4440-eabc-cbe0617ced53"
      },
      "execution_count": 18,
      "outputs": [
        {
          "output_type": "stream",
          "name": "stdout",
          "text": [
            "Digite o tempo de viagem: \n",
            "2\n",
            "Digite a velocidade média: \n",
            "60\n",
            "Tempo:  2\n",
            "Velocidade:  60.0\n",
            "Distanacia:  120.0\n",
            "Litros:  10.0\n"
          ]
        }
      ]
    },
    {
      "cell_type": "markdown",
      "source": [
        "## Função com Parâmetros"
      ],
      "metadata": {
        "id": "OXLTaAEZFf_0"
      }
    },
    {
      "cell_type": "code",
      "source": [
        "def mensagem(msg, vezes):\n",
        "  for contador in range (0, vezes):\n",
        "    print(msg)\n",
        "\n",
        "mensagem('Mensagem',2)\n",
        "mensagem('Teste mensagem',5)"
      ],
      "metadata": {
        "colab": {
          "base_uri": "https://localhost:8080/"
        },
        "id": "XsQV5TVlFj-s",
        "outputId": "6f54d905-485e-4e99-c085-be1e783ecf51"
      },
      "execution_count": 19,
      "outputs": [
        {
          "output_type": "stream",
          "name": "stdout",
          "text": [
            "Mensagem\n",
            "Mensagem\n",
            "Teste mensagem\n",
            "Teste mensagem\n",
            "Teste mensagem\n",
            "Teste mensagem\n",
            "Teste mensagem\n"
          ]
        }
      ]
    },
    {
      "cell_type": "code",
      "source": [
        "valor1 = 0.0\n",
        "valor2 = 0.0\n",
        "soma = 0\n",
        "\n",
        "def leitura():\n",
        "  print('Digite o primeiro valor: ')\n",
        "  global valor1\n",
        "  valor1 = float(input())\n",
        "  print('Digite o segundo valor: ')\n",
        "  global valor2\n",
        "  valor2 = float(input())\n",
        "\n",
        "def somatorio(vl1, vl2):\n",
        "  global soma\n",
        "  soma = vl1 + vl2\n",
        "\n",
        "def resultado(sm):\n",
        "  print ('Soma', sm)\n",
        "\n",
        "if __name__ in '__main__':\n",
        "  leitura()\n",
        "  somatorio(valor1,valor2)\n",
        "  resultado(soma)\n",
        "\n",
        "  "
      ],
      "metadata": {
        "colab": {
          "base_uri": "https://localhost:8080/"
        },
        "id": "0wamVta1F9Gx",
        "outputId": "d485565f-2507-492a-f0f5-7106521ea63a"
      },
      "execution_count": 20,
      "outputs": [
        {
          "output_type": "stream",
          "name": "stdout",
          "text": [
            "Digite o primeiro valor: \n",
            "43\n",
            "Digite o segundo valor: \n",
            "33\n",
            "Soma 76.0\n"
          ]
        }
      ]
    },
    {
      "cell_type": "code",
      "source": [
        "comprimento = 0.0\n",
        "largura = 0.0\n",
        "altura = 0.0\n",
        "volume = 0.0\n",
        "\n",
        "def leitura():\n",
        "  print('Digite o comprimento: ')\n",
        "  global comprimento\n",
        "  comprimento = float(input())\n",
        "  print('Digite o largura: ')\n",
        "  global largura\n",
        "  largura = float(input())\n",
        "  print('Digite o altura: ')\n",
        "  global altura\n",
        "  altura = float(input())\n",
        "\n",
        "\n",
        "def calcula_volume(c, l, a):\n",
        "  global volume\n",
        "  volume = c * l * a\n",
        "\n",
        "def resultado(v):\n",
        "  print('Volume:',v)\n",
        "\n",
        "if __name__ == '__main__':\n",
        "  leitura()\n",
        "  calcula_volume(comprimento, largura, altura)\n",
        "  resultado(volume)"
      ],
      "metadata": {
        "colab": {
          "base_uri": "https://localhost:8080/"
        },
        "id": "aq0ETc33G_Cg",
        "outputId": "4dff0926-c217-454c-b634-2b4e9558baa0"
      },
      "execution_count": 22,
      "outputs": [
        {
          "output_type": "stream",
          "name": "stdout",
          "text": [
            "Digite o comprimento: \n",
            "40\n",
            "Digite o largura: \n",
            "2\n",
            "Digite o altura: \n",
            "4\n",
            "Volume: 320.0\n"
          ]
        }
      ]
    },
    {
      "cell_type": "markdown",
      "source": [
        "## Funções com Retorno\n",
        "\n",
        "1. Crie um programa que leia tres valores e calcule a média aritmetica dos valores lidos:\n",
        "  a. Função para ler valores (não recebe parametro e retorna o valor lido).\n",
        "\n",
        "  b. Função para calcular a média (recebe como parametro os três valores e retorna o resultado.\n",
        "  \n",
        "  c. Função para mostrar o resultado (recebe como parâmetro o valor da média e imprime o valor, não retorna nada)."
      ],
      "metadata": {
        "id": "eRacC2FvIz66"
      }
    },
    {
      "cell_type": "code",
      "source": [
        "def leitura(mensagem):\n",
        "  print(mensagem)\n",
        "  valor = float(input())\n",
        "  return valor\n",
        "\n",
        "def somatorio(vl1, vl2):\n",
        "  return vl1 + vl2\n",
        "\n",
        "def resultado(soma):\n",
        "  print('Soma: ',soma)\n",
        "\n",
        "if __name__ == '__main__':\n",
        "  valor1 = leitura('Digite o primeiro valor: ')\n",
        "  valor2 = leitura('Digite o segundo valor: ')\n",
        "  soma = somatorio(valor1, valor2)\n",
        "  resultado(soma)"
      ],
      "metadata": {
        "colab": {
          "base_uri": "https://localhost:8080/"
        },
        "id": "Z-dFiwhoJcUC",
        "outputId": "e662fcc8-5a2b-4daf-99cd-7dce064d308d"
      },
      "execution_count": 24,
      "outputs": [
        {
          "output_type": "stream",
          "name": "stdout",
          "text": [
            "Digite o primeiro valor: \n",
            "4\n",
            "Digite o segundo valor: \n",
            "2\n",
            "Soma:  6.0\n"
          ]
        }
      ]
    },
    {
      "cell_type": "code",
      "source": [
        "def leitura():\n",
        "  print('Digite o valor: ')\n",
        "  valor = int(input())\n",
        "  return valor\n",
        "\n",
        "def valida_numero(numero):\n",
        "  if numero < 0 :\n",
        "    return False\n",
        "  else:\n",
        "    return True\n",
        "\n",
        "if __name__ == '__main__':\n",
        "  numero = leitura()\n",
        "  valida_numero(numero)\n",
        "  print(resultado)"
      ],
      "metadata": {
        "colab": {
          "base_uri": "https://localhost:8080/"
        },
        "id": "3txz7FrFK7lg",
        "outputId": "c91ae2fc-a8ba-44e9-ec8b-d3fb1b3cf569"
      },
      "execution_count": 27,
      "outputs": [
        {
          "output_type": "stream",
          "name": "stdout",
          "text": [
            "Digite o valor: \n",
            "-32\n",
            "<function resultado at 0x7f2a8400ccb0>\n"
          ]
        }
      ]
    },
    {
      "cell_type": "code",
      "source": [
        "def leitura(mensagem):\n",
        "  print(mensagem)\n",
        "  valor = int(input())\n",
        "  return valor\n",
        "\n",
        "def calcula_media(v1, v2, v3):\n",
        "  return (v1 + v2 + v3) / 3\n",
        "\n",
        "def resultado(media):\n",
        "  print('Media: ',media)\n",
        "\n",
        "if __name__ == '__main__':\n",
        "  valor1 = leitura('Digite o primeiro valor: ')\n",
        "  valor2 = leitura('Digite o segundo valor: ')\n",
        "  valor3 = leitura('Digite o terceiro valor: ')\n",
        "  media = calcula_media(valor1,valor2,valor3)\n",
        "  resultado(media)\n",
        "  "
      ],
      "metadata": {
        "colab": {
          "base_uri": "https://localhost:8080/"
        },
        "id": "Dl4WgtMiL4AL",
        "outputId": "bddfc969-9d22-452c-dbd2-c033dc1486f4"
      },
      "execution_count": 29,
      "outputs": [
        {
          "output_type": "stream",
          "name": "stdout",
          "text": [
            "Digite o primeiro valor: \n",
            "1\n",
            "Digite o segundo valor: \n",
            "3\n",
            "Digite o terceiro valor: \n",
            "2\n",
            "Media:  2.0\n"
          ]
        }
      ]
    }
  ]
}