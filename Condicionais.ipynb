{
  "nbformat": 4,
  "nbformat_minor": 0,
  "metadata": {
    "colab": {
      "provenance": [],
      "authorship_tag": "ABX9TyOnLNlBuqDBTnmS9bC77ufY",
      "include_colab_link": true
    },
    "kernelspec": {
      "name": "python3",
      "display_name": "Python 3"
    },
    "language_info": {
      "name": "python"
    }
  },
  "cells": [
    {
      "cell_type": "markdown",
      "metadata": {
        "id": "view-in-github",
        "colab_type": "text"
      },
      "source": [
        "<a href=\"https://colab.research.google.com/github/hidalgojunior/Algoritmos/blob/main/Condicionais.ipynb\" target=\"_parent\"><img src=\"https://colab.research.google.com/assets/colab-badge.svg\" alt=\"Open In Colab\"/></a>"
      ]
    },
    {
      "cell_type": "markdown",
      "source": [
        "Informe notas referentes à medias, depois verifique se está aprovado (>= 6) ou reprovado (< 4), caso contrario, verifique a nota de exame. Se estiver com nota >= 6, escreva que foi aprovado por exame, caso contrário, que está  reproado."
      ],
      "metadata": {
        "id": "-saBmaNIuvsh"
      }
    },
    {
      "cell_type": "code",
      "source": [
        "m1 = float(input('Informe a média na primeira prova: '))\n",
        "m2 = float(input('Informe a média na segunda prova: '))\n",
        "m3 = float(input('Informe a média na terceira prova: '))\n",
        "\n",
        "media = (m1 + m2 + m3)/3\n",
        "\n",
        "print ('A media é ',media)\n",
        "\n",
        "if media >= 6:\n",
        "  print('Aluno aprovado!')\n",
        "elif media < 4:\n",
        "  print('Aluno reprovado!')\n",
        "elif media >= 4 and media < 6:\n",
        "  print ('Aluno pegou exame')\n",
        "  exame = float(input('Informe a nota do exame: '))\n",
        "  if exame >= 6:\n",
        "    print('Aluno aprovado no exame')\n",
        "  else:\n",
        "    print ('Aluno reprovado no exame')\n"
      ],
      "metadata": {
        "colab": {
          "base_uri": "https://localhost:8080/"
        },
        "id": "PZ_iesTNxIP9",
        "outputId": "2b59650e-5fd5-4857-e868-2a8a859de507"
      },
      "execution_count": 3,
      "outputs": [
        {
          "output_type": "stream",
          "name": "stdout",
          "text": [
            "Informe a média na primeira prova: 7\n",
            "Informe a média na segunda prova: 8\n",
            "Informe a média na terceira prova: 6\n",
            "A media é  7.0\n",
            "Aluno aprovado!\n"
          ]
        }
      ]
    },
    {
      "cell_type": "markdown",
      "source": [
        "\n",
        "# Exercícios\n",
        "\n",
        "1. Leia um número inteiro e informe se ele é positivo ou negativo (considere zero como positivo)\n",
        "2. Leia dois números e informe quais deles é o maior. Se forem iguais, essa informação deve ser exibida na tela.\n",
        "3. Leia a idade do usuário e classifique-o em:\n",
        "  - Criança: 0 a 12 anos\n",
        "  - Adolescente 13 a 17 anos\n",
        "  - Adulto: acima de 18 anos (se o usuário digitar um número negativo, informar que a data é inválida).\n",
        "4. Ler dois números reais e uma operação, e com isso, imprima o resultado de acordo com a opção escolhida pelo usuário: adição, subtração, multiplicação ou divisão. Caso contrário, uma informação daverá ser exibida na tela.\n",
        "5. Leia um número inteiro a apresente as seguintes mensagens:\n",
        "  - \"O valor está na faixa permitida\", caso esteja esteja entre 1 e 9.\n",
        "  - \"O valor está fora da faixa permitida\", caso seja menor que 1 ou maior que 9."
      ],
      "metadata": {
        "id": "7pSrSyyFNj_p"
      }
    },
    {
      "cell_type": "markdown",
      "source": [
        "## Exercício 01"
      ],
      "metadata": {
        "id": "UEjv_JSqO4aT"
      }
    },
    {
      "cell_type": "markdown",
      "source": [
        "Leia um número inteiro e informe se ele é positivo ou negativo (considere zero como positivo)"
      ],
      "metadata": {
        "id": "z-i6JEx7teWI"
      }
    },
    {
      "cell_type": "code",
      "execution_count": 2,
      "metadata": {
        "id": "c1GsEtsKNekt",
        "colab": {
          "base_uri": "https://localhost:8080/"
        },
        "outputId": "f252aa0b-3fe9-4d19-e091-d302ccf37d42"
      },
      "outputs": [
        {
          "output_type": "stream",
          "name": "stdout",
          "text": [
            "Informe um número inteiro: -2\n",
            "-2  é negativo\n"
          ]
        }
      ],
      "source": [
        "numero = int(input(\"Informe um número inteiro: \"))\n",
        "\n",
        "if (numero >= 0):\n",
        "    print (numero,\" é positivo\")\n",
        "else:\n",
        "    print (numero,\" é negativo\")\n"
      ]
    },
    {
      "cell_type": "markdown",
      "source": [
        "Leia dois números e informe quais deles é o maior. Se forem iguais, essa informação deve ser exibida na tela."
      ],
      "metadata": {
        "id": "66uEEBkjt_mB"
      }
    },
    {
      "cell_type": "code",
      "source": [
        "valor1 = int(input('Informe o primeiro valor: '))\n",
        "valor2 = int(input('Informe o segundo valor: '))\n",
        "\n",
        "if valor1 == valor2:\n",
        "  print('Os valores são iguais')\n",
        "elif valor1 > valor2:\n",
        "  print(valor1,' é maior que ',valor2)\n",
        "elif valor2 > valor1:\n",
        "  print(valor2,' é maior que ',valor1)\n"
      ],
      "metadata": {
        "id": "TgfICTWFuEi_"
      },
      "execution_count": null,
      "outputs": []
    },
    {
      "cell_type": "markdown",
      "source": [
        "Leia a idade do usuário e classifique-o em:\n",
        "- Criança: 0 a 12 anos\n",
        "- Adolescente 13 a 17 anos\n",
        "- Adulto: acima de 18 anos (se o usuário digitar um número negativo, informar que a data é inválida)."
      ],
      "metadata": {
        "id": "kXI3DV5R1GDf"
      }
    },
    {
      "cell_type": "code",
      "source": [
        "idade = int(input('Informe a idade: '))\n",
        "if idade >= 0 and idade <= 12:\n",
        "  print ('Criança')\n",
        "elif idade > 13 and idade <= 17:\n",
        "  print ('Adolescente')\n",
        "elif idade >= 18:\n",
        "  print ('Adulto')\n",
        "else:\n",
        "  print('Data inválida')"
      ],
      "metadata": {
        "colab": {
          "base_uri": "https://localhost:8080/"
        },
        "id": "FC1VvPo11Kqf",
        "outputId": "d21882c5-9cd1-43fa-cbda-7e7ee3cb184e"
      },
      "execution_count": 5,
      "outputs": [
        {
          "output_type": "stream",
          "name": "stdout",
          "text": [
            "Informe a idade: 15\n",
            "Adolescente\n"
          ]
        }
      ]
    },
    {
      "cell_type": "markdown",
      "source": [
        "Ler dois números reais e uma operação, e com isso, imprima o resultado de acordo com a opção escolhida pelo usuário: adição, subtração, multiplicação ou divisão. Caso contrário, uma informação daverá ser exibida na tela."
      ],
      "metadata": {
        "id": "rEt_Q8A01qi7"
      }
    },
    {
      "cell_type": "code",
      "source": [
        "valor1 = float(input('Informe o primeiro valor: '))\n",
        "valor2 = float(input('Informe o segundo valor: '))\n",
        "operacao = input('Informe a operação')\n",
        "\n",
        "if (operacao == '+'):\n",
        "  resultado = valor1 + valor2\n",
        "  print('Resultado: ',resultado)\n",
        "elif(operacao == '-'):\n",
        "  resultado = valor1 - valor2\n",
        "  print('Resultado: ',resultado)\n",
        "elif(operacao == '*'):\n",
        "  resultado = valor1 * valor2\n",
        "  print('Resultado: ',resultado)\n",
        "elif(operacao == '/'):\n",
        "  resultado = valor1 / valor2\n",
        "  print('Resultado: ',resultado)\n",
        "else:\n",
        "  print('Operação inválida.')"
      ],
      "metadata": {
        "colab": {
          "base_uri": "https://localhost:8080/"
        },
        "id": "faA-iQ3W1rbd",
        "outputId": "aec8b4ca-64de-4e73-de63-f8ec0fbfc124"
      },
      "execution_count": 7,
      "outputs": [
        {
          "output_type": "stream",
          "name": "stdout",
          "text": [
            "Informe o primeiro valor: 45\n",
            "Informe o segundo valor: 43\n",
            "Informe a operação=\n",
            "Operação inválida.\n"
          ]
        }
      ]
    },
    {
      "cell_type": "markdown",
      "source": [
        "Leia um número inteiro a apresente as seguintes mensagens:\n",
        "- \"O valor está na faixa permitida\", caso esteja esteja entre 1 e 9.\n",
        "- \"O valor está fora da faixa permitida\", caso seja menor que 1 ou maior que 9."
      ],
      "metadata": {
        "id": "K3onzizv2_ye"
      }
    },
    {
      "cell_type": "code",
      "source": [
        "valor = int(input('Informe um valor inteiro: '))\n",
        "\n",
        "if valor >=1 and valor <= 9:\n",
        "  print('O valor está denro da faixa permitida.')\n",
        "elif valor < 1 or valor > 9:\n",
        "  print('O valor está fora da faixa permitida')"
      ],
      "metadata": {
        "colab": {
          "base_uri": "https://localhost:8080/"
        },
        "id": "3t6frJBp3EBd",
        "outputId": "b9f95829-c441-44ad-b2f4-7db425ca1def"
      },
      "execution_count": 11,
      "outputs": [
        {
          "output_type": "stream",
          "name": "stdout",
          "text": [
            "Informe um valor inteiro: -4\n",
            "O valor está fora da faixa permitida\n"
          ]
        }
      ]
    }
  ]
}